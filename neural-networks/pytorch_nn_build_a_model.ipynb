{
 "cells": [
  {
   "cell_type": "code",
   "execution_count": 1,
   "metadata": {},
   "outputs": [],
   "source": [
    "import os\n",
    "import torch\n",
    "from torch import nn\n",
    "from torch.utils.data import DataLoader\n",
    "from torchvision import datasets, transforms\n",
    "\n",
    "# https://pytorch.org/tutorials/beginner/basics/buildmodel_tutorial.html#model-layers"
   ]
  },
  {
   "cell_type": "code",
   "execution_count": 2,
   "metadata": {},
   "outputs": [
    {
     "name": "stdout",
     "output_type": "stream",
     "text": [
      "Using cuda device\n"
     ]
    }
   ],
   "source": [
    "device = (\n",
    "    \"cuda\"\n",
    "    if torch.cuda.is_available()\n",
    "    else \"mps\"\n",
    "    if torch.backends.mps.is_available()\n",
    "    else \"cpu\"\n",
    ")\n",
    "print(f\"Using {device} device\")"
   ]
  },
  {
   "cell_type": "code",
   "execution_count": 7,
   "metadata": {},
   "outputs": [],
   "source": [
    "# setting up a class\n",
    "#   1. subclass from nn.Module\n",
    "#   2. initialize layers in __init__\n",
    "#   3. implement operations on input data in the forward method\n",
    "\n",
    "class NeuralNetwork(nn.Module):\n",
    "    def __init__(self):\n",
    "        super().__init__()\n",
    "        self.flatten = nn.Flatten()\n",
    "        self.linear_relu_stack = nn.Sequential(\n",
    "            nn.Linear(28*28, 512), # MNIST image size as input\n",
    "            nn.ReLU(), # add the relu activation function\n",
    "            nn.Linear(512, 512), # fully connected layer with the (input size, output size)\n",
    "            nn.ReLU(), # add the relu activation function to the outputs\n",
    "            nn.Linear(512, 10), # fully connected with (input size, output size)\n",
    "            # note no activation on the end - nn.CrossEntropyLoss internally applies log_softmax\n",
    "        )\n",
    "    \n",
    "    def forward(self, x): # note, do not call directly! instead pass to the object\n",
    "        x = self.flatten(x) # take the 2d tensor image and convert to 1d tensor\n",
    "        logits = self.linear_relu_stack(x)\n",
    "        return logits # returns a 2d tensor - dim=0 the index of output, dim=1 the value of the output"
   ]
  },
  {
   "cell_type": "code",
   "execution_count": 8,
   "metadata": {},
   "outputs": [
    {
     "name": "stdout",
     "output_type": "stream",
     "text": [
      "NeuralNetwork(\n",
      "  (flatten): Flatten(start_dim=1, end_dim=-1)\n",
      "  (linear_relu_stack): Sequential(\n",
      "    (0): Linear(in_features=784, out_features=512, bias=True)\n",
      "    (1): ReLU()\n",
      "    (2): Linear(in_features=512, out_features=512, bias=True)\n",
      "    (3): ReLU()\n",
      "    (4): Linear(in_features=512, out_features=10, bias=True)\n",
      "  )\n",
      ")\n"
     ]
    }
   ],
   "source": [
    "# create model, move to device, and print structure\n",
    "model = NeuralNetwork().to(device)\n",
    "print(model)"
   ]
  },
  {
   "cell_type": "code",
   "execution_count": 9,
   "metadata": {},
   "outputs": [
    {
     "name": "stdout",
     "output_type": "stream",
     "text": [
      "Predicted class: tensor([3], device='cuda:0')\n"
     ]
    }
   ],
   "source": [
    "# Need to add softmax to get prediction probabilities for the classes from MNIST\n",
    "X = torch.rand(1, 28, 28, device=device)\n",
    "logits = model(X)\n",
    "pred_probab = nn.Softmax(dim=1)(logits)\n",
    "y_pred = pred_probab.argmax(1)\n",
    "print(f\"Predicted class: {y_pred}\")"
   ]
  },
  {
   "cell_type": "code",
   "execution_count": 10,
   "metadata": {},
   "outputs": [
    {
     "name": "stdout",
     "output_type": "stream",
     "text": [
      "torch.Size([3, 28, 28])\n"
     ]
    }
   ],
   "source": [
    "# looking at layers using sample minibatch of 3 images of size (28,28)\n",
    "input_image = torch.rand(3,28,28)\n",
    "print(input_image.size())"
   ]
  },
  {
   "cell_type": "code",
   "execution_count": 11,
   "metadata": {},
   "outputs": [
    {
     "name": "stdout",
     "output_type": "stream",
     "text": [
      "torch.Size([3, 784])\n"
     ]
    }
   ],
   "source": [
    "# flatten converts 2d (28,28) to 1d (784,) - retaining the minibatch dimension\n",
    "flatten = nn.Flatten()\n",
    "flat_image = flatten(input_image)\n",
    "print(flat_image.size())"
   ]
  },
  {
   "cell_type": "code",
   "execution_count": 12,
   "metadata": {},
   "outputs": [
    {
     "name": "stdout",
     "output_type": "stream",
     "text": [
      "torch.Size([3, 20])\n"
     ]
    }
   ],
   "source": [
    "# linear layer is a fully connected part of NN\n",
    "layer1 = nn.Linear(in_features=28*28, out_features=20)\n",
    "hidden1 = layer1(flat_image)\n",
    "print(hidden1.size())"
   ]
  },
  {
   "cell_type": "code",
   "execution_count": 13,
   "metadata": {},
   "outputs": [
    {
     "name": "stdout",
     "output_type": "stream",
     "text": [
      "Before ReLU: tensor([[ 3.0641e-01,  6.1469e-01, -1.1619e-01, -2.1788e-01,  5.5430e-01,\n",
      "         -5.6826e-02, -6.5653e-02, -6.8821e-02, -1.9113e-01,  2.6117e-01,\n",
      "          4.7677e-01,  3.7927e-04, -1.6366e-02, -8.2226e-02,  1.0688e-01,\n",
      "          1.9652e-01,  3.9228e-01, -3.2533e-01, -1.3845e-01, -3.8337e-01],\n",
      "        [ 2.3194e-01,  4.3532e-01,  4.1137e-02, -7.7636e-01,  2.4027e-01,\n",
      "          9.9707e-02,  2.7089e-02,  8.4383e-02, -2.5856e-01,  4.8859e-02,\n",
      "          4.7725e-01,  1.5629e-01,  2.9210e-01, -5.5869e-02,  1.5243e-01,\n",
      "          7.1445e-01,  1.9363e-01, -4.2391e-02, -4.9109e-01, -1.8783e-01],\n",
      "        [ 6.9047e-03,  4.9769e-01, -8.9560e-02, -5.4732e-01,  4.0438e-01,\n",
      "         -2.0350e-02, -1.8790e-02, -2.8330e-01, -5.9206e-02,  3.8581e-02,\n",
      "          5.0560e-01, -3.5624e-01, -2.5388e-02, -2.1882e-01,  2.2242e-01,\n",
      "          3.9116e-01,  1.6018e-01, -2.8177e-01, -2.2700e-01,  3.4464e-03]],\n",
      "       grad_fn=<AddmmBackward0>)\n",
      "\n",
      "\n",
      "After ReLU: tensor([[3.0641e-01, 6.1469e-01, 0.0000e+00, 0.0000e+00, 5.5430e-01, 0.0000e+00,\n",
      "         0.0000e+00, 0.0000e+00, 0.0000e+00, 2.6117e-01, 4.7677e-01, 3.7927e-04,\n",
      "         0.0000e+00, 0.0000e+00, 1.0688e-01, 1.9652e-01, 3.9228e-01, 0.0000e+00,\n",
      "         0.0000e+00, 0.0000e+00],\n",
      "        [2.3194e-01, 4.3532e-01, 4.1137e-02, 0.0000e+00, 2.4027e-01, 9.9707e-02,\n",
      "         2.7089e-02, 8.4383e-02, 0.0000e+00, 4.8859e-02, 4.7725e-01, 1.5629e-01,\n",
      "         2.9210e-01, 0.0000e+00, 1.5243e-01, 7.1445e-01, 1.9363e-01, 0.0000e+00,\n",
      "         0.0000e+00, 0.0000e+00],\n",
      "        [6.9047e-03, 4.9769e-01, 0.0000e+00, 0.0000e+00, 4.0438e-01, 0.0000e+00,\n",
      "         0.0000e+00, 0.0000e+00, 0.0000e+00, 3.8581e-02, 5.0560e-01, 0.0000e+00,\n",
      "         0.0000e+00, 0.0000e+00, 2.2242e-01, 3.9116e-01, 1.6018e-01, 0.0000e+00,\n",
      "         0.0000e+00, 3.4464e-03]], grad_fn=<ReluBackward0>)\n"
     ]
    }
   ],
   "source": [
    "# nonlinear activations are applied after linear (fully connected) or other transformations between layers\n",
    "print(f\"Before ReLU: {hidden1}\\n\\n\")\n",
    "hidden1 = nn.ReLU()(hidden1)\n",
    "print(f\"After ReLU: {hidden1}\")"
   ]
  },
  {
   "cell_type": "code",
   "execution_count": 14,
   "metadata": {},
   "outputs": [],
   "source": [
    "# nn.Sequential - ordered container of modules, data passed through in order defined\n",
    "seq_modules = nn.Sequential(\n",
    "    flatten,\n",
    "    layer1,\n",
    "    nn.ReLU(),\n",
    "    nn.Linear(20, 10)\n",
    ")\n",
    "input_image = torch.rand(3,28,28)\n",
    "logits = seq_modules(input_image)"
   ]
  },
  {
   "cell_type": "code",
   "execution_count": 15,
   "metadata": {},
   "outputs": [],
   "source": [
    "# softmax - converts logits (i.e., values in [-infty, infty] to [0,1]), dim is along which dim the values must\n",
    "# sum to one\n",
    "softmax = nn.Softmax(dim=1)\n",
    "pred_probab = softmax(logits)"
   ]
  },
  {
   "cell_type": "code",
   "execution_count": 16,
   "metadata": {},
   "outputs": [
    {
     "name": "stdout",
     "output_type": "stream",
     "text": [
      "Model structure: NeuralNetwork(\n",
      "  (flatten): Flatten(start_dim=1, end_dim=-1)\n",
      "  (linear_relu_stack): Sequential(\n",
      "    (0): Linear(in_features=784, out_features=512, bias=True)\n",
      "    (1): ReLU()\n",
      "    (2): Linear(in_features=512, out_features=512, bias=True)\n",
      "    (3): ReLU()\n",
      "    (4): Linear(in_features=512, out_features=10, bias=True)\n",
      "  )\n",
      ")\n",
      "\n",
      "\n",
      "Layer: linear_relu_stack.0.weight | Size: torch.Size([512, 784]) | Values : tensor([[ 0.0336,  0.0346, -0.0307,  ...,  0.0025, -0.0115,  0.0314],\n",
      "        [-0.0317,  0.0081, -0.0250,  ...,  0.0175, -0.0060,  0.0324]],\n",
      "       device='cuda:0', grad_fn=<SliceBackward0>) \n",
      "\n",
      "Layer: linear_relu_stack.0.bias | Size: torch.Size([512]) | Values : tensor([ 0.0185, -0.0182], device='cuda:0', grad_fn=<SliceBackward0>) \n",
      "\n",
      "Layer: linear_relu_stack.2.weight | Size: torch.Size([512, 512]) | Values : tensor([[ 0.0247,  0.0085, -0.0249,  ..., -0.0359,  0.0168, -0.0281],\n",
      "        [ 0.0152,  0.0376,  0.0213,  ...,  0.0244, -0.0195, -0.0251]],\n",
      "       device='cuda:0', grad_fn=<SliceBackward0>) \n",
      "\n",
      "Layer: linear_relu_stack.2.bias | Size: torch.Size([512]) | Values : tensor([-0.0365, -0.0086], device='cuda:0', grad_fn=<SliceBackward0>) \n",
      "\n",
      "Layer: linear_relu_stack.4.weight | Size: torch.Size([10, 512]) | Values : tensor([[ 0.0382,  0.0378,  0.0333,  ..., -0.0431, -0.0234,  0.0339],\n",
      "        [ 0.0045,  0.0168, -0.0188,  ...,  0.0179,  0.0368, -0.0303]],\n",
      "       device='cuda:0', grad_fn=<SliceBackward0>) \n",
      "\n",
      "Layer: linear_relu_stack.4.bias | Size: torch.Size([10]) | Values : tensor([-0.0045,  0.0122], device='cuda:0', grad_fn=<SliceBackward0>) \n",
      "\n"
     ]
    }
   ],
   "source": [
    "# layers are parameterized (with weights and biases that are optimized during training)\n",
    "# - subclassing from nn.Module automatically tracks all fields into parameters()\n",
    "print(f\"Model structure: {model}\\n\\n\")\n",
    "\n",
    "for name, param in model.named_parameters():\n",
    "    print(f\"Layer: {name} | Size: {param.size()} | Values : {param[:2]} \\n\")"
   ]
  },
  {
   "cell_type": "code",
   "execution_count": null,
   "metadata": {},
   "outputs": [],
   "source": []
  },
  {
   "cell_type": "code",
   "execution_count": null,
   "metadata": {},
   "outputs": [],
   "source": []
  },
  {
   "cell_type": "code",
   "execution_count": null,
   "metadata": {},
   "outputs": [],
   "source": []
  }
 ],
 "metadata": {
  "kernelspec": {
   "display_name": ".venv",
   "language": "python",
   "name": "python3"
  },
  "language_info": {
   "codemirror_mode": {
    "name": "ipython",
    "version": 3
   },
   "file_extension": ".py",
   "mimetype": "text/x-python",
   "name": "python",
   "nbconvert_exporter": "python",
   "pygments_lexer": "ipython3",
   "version": "3.11.0"
  }
 },
 "nbformat": 4,
 "nbformat_minor": 2
}
