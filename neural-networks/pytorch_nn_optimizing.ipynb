{
 "cells": [
  {
   "cell_type": "code",
   "execution_count": null,
   "metadata": {},
   "outputs": [],
   "source": [
    "# train a NN after getting data, setting up a model\n",
    "# https://pytorch.org/tutorials/beginner/basics/optimization_tutorial.html\n"
   ]
  },
  {
   "cell_type": "code",
   "execution_count": 1,
   "metadata": {},
   "outputs": [
    {
     "name": "stdout",
     "output_type": "stream",
     "text": [
      "Downloading http://fashion-mnist.s3-website.eu-central-1.amazonaws.com/train-images-idx3-ubyte.gz\n",
      "Downloading http://fashion-mnist.s3-website.eu-central-1.amazonaws.com/train-images-idx3-ubyte.gz to data/FashionMNIST/raw/train-images-idx3-ubyte.gz\n"
     ]
    },
    {
     "name": "stderr",
     "output_type": "stream",
     "text": [
      "100.0%\n"
     ]
    },
    {
     "name": "stdout",
     "output_type": "stream",
     "text": [
      "Extracting data/FashionMNIST/raw/train-images-idx3-ubyte.gz to data/FashionMNIST/raw\n",
      "\n",
      "Downloading http://fashion-mnist.s3-website.eu-central-1.amazonaws.com/train-labels-idx1-ubyte.gz\n"
     ]
    },
    {
     "name": "stderr",
     "output_type": "stream",
     "text": [
      "100.0%"
     ]
    },
    {
     "name": "stdout",
     "output_type": "stream",
     "text": [
      "Downloading http://fashion-mnist.s3-website.eu-central-1.amazonaws.com/train-labels-idx1-ubyte.gz to data/FashionMNIST/raw/train-labels-idx1-ubyte.gz\n",
      "Extracting data/FashionMNIST/raw/train-labels-idx1-ubyte.gz to data/FashionMNIST/raw\n",
      "\n",
      "Downloading http://fashion-mnist.s3-website.eu-central-1.amazonaws.com/t10k-images-idx3-ubyte.gz\n"
     ]
    },
    {
     "name": "stderr",
     "output_type": "stream",
     "text": [
      "\n"
     ]
    },
    {
     "name": "stdout",
     "output_type": "stream",
     "text": [
      "Downloading http://fashion-mnist.s3-website.eu-central-1.amazonaws.com/t10k-images-idx3-ubyte.gz to data/FashionMNIST/raw/t10k-images-idx3-ubyte.gz\n"
     ]
    },
    {
     "name": "stderr",
     "output_type": "stream",
     "text": [
      "100.0%\n"
     ]
    },
    {
     "name": "stdout",
     "output_type": "stream",
     "text": [
      "Extracting data/FashionMNIST/raw/t10k-images-idx3-ubyte.gz to data/FashionMNIST/raw\n",
      "\n",
      "Downloading http://fashion-mnist.s3-website.eu-central-1.amazonaws.com/t10k-labels-idx1-ubyte.gz\n",
      "Downloading http://fashion-mnist.s3-website.eu-central-1.amazonaws.com/t10k-labels-idx1-ubyte.gz to data/FashionMNIST/raw/t10k-labels-idx1-ubyte.gz\n"
     ]
    },
    {
     "name": "stderr",
     "output_type": "stream",
     "text": [
      "100.0%"
     ]
    },
    {
     "name": "stdout",
     "output_type": "stream",
     "text": [
      "Extracting data/FashionMNIST/raw/t10k-labels-idx1-ubyte.gz to data/FashionMNIST/raw\n",
      "\n"
     ]
    },
    {
     "name": "stderr",
     "output_type": "stream",
     "text": [
      "\n"
     ]
    }
   ],
   "source": [
    "# pre-reg code\n",
    "import torch\n",
    "from torch import nn\n",
    "from torch.utils.data import DataLoader\n",
    "from torchvision import datasets\n",
    "from torchvision.transforms import ToTensor\n",
    "\n",
    "training_data = datasets.FashionMNIST(\n",
    "    root=\"data\",\n",
    "    train=True,\n",
    "    download=True,\n",
    "    transform=ToTensor()\n",
    ")\n",
    "\n",
    "test_data = datasets.FashionMNIST(\n",
    "    root=\"data\",\n",
    "    train=False,\n",
    "    download=True,\n",
    "    transform=ToTensor()\n",
    ")\n",
    "\n",
    "train_dataloader = DataLoader(training_data, batch_size=64)\n",
    "test_dataloader = DataLoader(test_data, batch_size=64)\n",
    "\n",
    "class NeuralNetwork(nn.Module):\n",
    "    def __init__(self):\n",
    "        super().__init__()\n",
    "        self.flatten = nn.Flatten()\n",
    "        self.linear_relu_stack = nn.Sequential(\n",
    "            nn.Linear(28*28, 512),\n",
    "            nn.ReLU(),\n",
    "            nn.Linear(512, 512),\n",
    "            nn.ReLU(),\n",
    "            nn.Linear(512, 10),\n",
    "        )\n",
    "\n",
    "    def forward(self, x):\n",
    "        x = self.flatten(x)\n",
    "        logits = self.linear_relu_stack(x)\n",
    "        return logits\n",
    "\n",
    "model = NeuralNetwork()"
   ]
  },
  {
   "cell_type": "code",
   "execution_count": 2,
   "metadata": {},
   "outputs": [],
   "source": [
    "# hyperparameters\n",
    "# number of epochs - number of times to iterate over the dataset\n",
    "# batch size - number of data samples propagated through the network before\n",
    "#  the parameters are updated\n",
    "# learning rate - how much to update params at each batch/epoch\n",
    "learning_rate = 1e-3\n",
    "batch_size = 64\n",
    "epochs = 5"
   ]
  },
  {
   "cell_type": "code",
   "execution_count": 3,
   "metadata": {},
   "outputs": [],
   "source": [
    "# optimization loop\n",
    "# each optimization loop is an epoch\n",
    "#   1. train loop - update params\n",
    "#   2. validation/test loop - check model perf\n",
    "\n",
    "# key components\n",
    "# -loss function - measure dissimilarity of obtained result to a target value \n",
    "#  goal of minimizing this (e.g., nn.MSELoss for regression, nn.NLLLoss for classification,\n",
    "#  nn.CrossEntropyLoss combining nn.LogSoftmax and nn.NLLLoss)\n",
    "# -optimizer - process for adjusting model parameters to reduce model error using \n",
    "#  algorithms such as Stochastic Gradient Descent (SGD), encapsulated in optimizer \n",
    "#  object. Requires the model parameters and learning rate as inputs\n",
    "# Step 1: optimizer.zero_grad()\n",
    "# Step 2: backprop loss - loss.backward()\n",
    "# Step 3: use grads in optimizer.step() and adjust model params\n",
    "\n",
    "def train_loop(dataloader, model, loss_fn, optimizer):\n",
    "    size = len(dataloader.dataset)\n",
    "    # Set the model to training mode - important for batch normalization and dropout layers\n",
    "    # Unnecessary in this situation but added for best practices\n",
    "    model.train()\n",
    "    for batch, (X, y) in enumerate(dataloader):\n",
    "        # Compute prediction and loss\n",
    "        pred = model(X)\n",
    "        loss = loss_fn(pred, y)\n",
    "\n",
    "        # Backpropagation\n",
    "        loss.backward()\n",
    "        optimizer.step()\n",
    "        optimizer.zero_grad()\n",
    "\n",
    "        if batch % 100 == 0:\n",
    "            loss, current = loss.item(), batch * batch_size + len(X)\n",
    "            print(f\"loss: {loss:>7f}  [{current:>5d}/{size:>5d}]\")\n",
    "\n",
    "\n",
    "def test_loop(dataloader, model, loss_fn):\n",
    "    # Set the model to evaluation mode - important for batch normalization and dropout layers\n",
    "    # Unnecessary in this situation but added for best practices\n",
    "    model.eval()\n",
    "    size = len(dataloader.dataset)\n",
    "    num_batches = len(dataloader)\n",
    "    test_loss, correct = 0, 0\n",
    "\n",
    "    # Evaluating the model with torch.no_grad() ensures that no gradients are computed during test mode\n",
    "    # also serves to reduce unnecessary gradient computations and memory usage for tensors with requires_grad=True\n",
    "    with torch.no_grad():\n",
    "        for X, y in dataloader:\n",
    "            pred = model(X)\n",
    "            test_loss += loss_fn(pred, y).item()\n",
    "            correct += (pred.argmax(1) == y).type(torch.float).sum().item()\n",
    "\n",
    "    test_loss /= num_batches\n",
    "    correct /= size\n",
    "    print(f\"Test Error: \\n Accuracy: {(100*correct):>0.1f}%, Avg loss: {test_loss:>8f} \\n\")\n"
   ]
  },
  {
   "cell_type": "code",
   "execution_count": 4,
   "metadata": {},
   "outputs": [
    {
     "name": "stdout",
     "output_type": "stream",
     "text": [
      "Epoch 1\n",
      "-------------------------------\n",
      "loss: 2.292907  [   64/60000]\n",
      "loss: 2.284126  [ 6464/60000]\n",
      "loss: 2.265612  [12864/60000]\n",
      "loss: 2.260755  [19264/60000]\n",
      "loss: 2.235880  [25664/60000]\n",
      "loss: 2.215730  [32064/60000]\n",
      "loss: 2.210976  [38464/60000]\n",
      "loss: 2.182745  [44864/60000]\n",
      "loss: 2.182799  [51264/60000]\n",
      "loss: 2.145407  [57664/60000]\n",
      "Test Error: \n",
      " Accuracy: 52.0%, Avg loss: 2.143777 \n",
      "\n",
      "Epoch 2\n",
      "-------------------------------\n",
      "loss: 2.150179  [   64/60000]\n",
      "loss: 2.139690  [ 6464/60000]\n",
      "loss: 2.078927  [12864/60000]\n",
      "loss: 2.095026  [19264/60000]\n",
      "loss: 2.031178  [25664/60000]\n",
      "loss: 1.983102  [32064/60000]\n",
      "loss: 1.995885  [38464/60000]\n",
      "loss: 1.921708  [44864/60000]\n",
      "loss: 1.926623  [51264/60000]\n",
      "loss: 1.845320  [57664/60000]\n",
      "Test Error: \n",
      " Accuracy: 57.3%, Avg loss: 1.850022 \n",
      "\n",
      "Epoch 3\n",
      "-------------------------------\n",
      "loss: 1.880700  [   64/60000]\n",
      "loss: 1.846945  [ 6464/60000]\n",
      "loss: 1.729359  [12864/60000]\n",
      "loss: 1.768213  [19264/60000]\n",
      "loss: 1.661521  [25664/60000]\n",
      "loss: 1.619826  [32064/60000]\n",
      "loss: 1.631608  [38464/60000]\n",
      "loss: 1.547815  [44864/60000]\n",
      "loss: 1.566570  [51264/60000]\n",
      "loss: 1.468555  [57664/60000]\n",
      "Test Error: \n",
      " Accuracy: 60.5%, Avg loss: 1.490892 \n",
      "\n",
      "Epoch 4\n",
      "-------------------------------\n",
      "loss: 1.553371  [   64/60000]\n",
      "loss: 1.524299  [ 6464/60000]\n",
      "loss: 1.378758  [12864/60000]\n",
      "loss: 1.446328  [19264/60000]\n",
      "loss: 1.340512  [25664/60000]\n",
      "loss: 1.334368  [32064/60000]\n",
      "loss: 1.347819  [38464/60000]\n",
      "loss: 1.284401  [44864/60000]\n",
      "loss: 1.311739  [51264/60000]\n",
      "loss: 1.228809  [57664/60000]\n",
      "Test Error: \n",
      " Accuracy: 62.2%, Avg loss: 1.249517 \n",
      "\n",
      "Epoch 5\n",
      "-------------------------------\n",
      "loss: 1.320150  [   64/60000]\n",
      "loss: 1.305939  [ 6464/60000]\n",
      "loss: 1.144836  [12864/60000]\n",
      "loss: 1.244449  [19264/60000]\n",
      "loss: 1.130845  [25664/60000]\n",
      "loss: 1.149489  [32064/60000]\n",
      "loss: 1.173380  [38464/60000]\n",
      "loss: 1.117051  [44864/60000]\n",
      "loss: 1.150661  [51264/60000]\n",
      "loss: 1.084245  [57664/60000]\n",
      "Test Error: \n",
      " Accuracy: 64.2%, Avg loss: 1.096251 \n",
      "\n",
      "Epoch 6\n",
      "-------------------------------\n",
      "loss: 1.162581  [   64/60000]\n",
      "loss: 1.165468  [ 6464/60000]\n",
      "loss: 0.987701  [12864/60000]\n",
      "loss: 1.114852  [19264/60000]\n",
      "loss: 0.997669  [25664/60000]\n",
      "loss: 1.021827  [32064/60000]\n",
      "loss: 1.062467  [38464/60000]\n",
      "loss: 1.005927  [44864/60000]\n",
      "loss: 1.040762  [51264/60000]\n",
      "loss: 0.991365  [57664/60000]\n",
      "Test Error: \n",
      " Accuracy: 65.7%, Avg loss: 0.994019 \n",
      "\n",
      "Epoch 7\n",
      "-------------------------------\n",
      "loss: 1.049015  [   64/60000]\n",
      "loss: 1.072153  [ 6464/60000]\n",
      "loss: 0.877007  [12864/60000]\n",
      "loss: 1.026539  [19264/60000]\n",
      "loss: 0.911651  [25664/60000]\n",
      "loss: 0.928825  [32064/60000]\n",
      "loss: 0.987911  [38464/60000]\n",
      "loss: 0.931233  [44864/60000]\n",
      "loss: 0.961044  [51264/60000]\n",
      "loss: 0.927458  [57664/60000]\n",
      "Test Error: \n",
      " Accuracy: 67.0%, Avg loss: 0.921906 \n",
      "\n",
      "Epoch 8\n",
      "-------------------------------\n",
      "loss: 0.962670  [   64/60000]\n",
      "loss: 1.005860  [ 6464/60000]\n",
      "loss: 0.795169  [12864/60000]\n",
      "loss: 0.962271  [19264/60000]\n",
      "loss: 0.853193  [25664/60000]\n",
      "loss: 0.858121  [32064/60000]\n",
      "loss: 0.933643  [38464/60000]\n",
      "loss: 0.879158  [44864/60000]\n",
      "loss: 0.900934  [51264/60000]\n",
      "loss: 0.879942  [57664/60000]\n",
      "Test Error: \n",
      " Accuracy: 68.3%, Avg loss: 0.868250 \n",
      "\n",
      "Epoch 9\n",
      "-------------------------------\n",
      "loss: 0.894424  [   64/60000]\n",
      "loss: 0.954896  [ 6464/60000]\n",
      "loss: 0.732796  [12864/60000]\n",
      "loss: 0.912932  [19264/60000]\n",
      "loss: 0.810675  [25664/60000]\n",
      "loss: 0.803637  [32064/60000]\n",
      "loss: 0.891761  [38464/60000]\n",
      "loss: 0.841581  [44864/60000]\n",
      "loss: 0.855039  [51264/60000]\n",
      "loss: 0.842930  [57664/60000]\n",
      "Test Error: \n",
      " Accuracy: 69.7%, Avg loss: 0.826782 \n",
      "\n",
      "Epoch 10\n",
      "-------------------------------\n",
      "loss: 0.838975  [   64/60000]\n",
      "loss: 0.913229  [ 6464/60000]\n",
      "loss: 0.683474  [12864/60000]\n",
      "loss: 0.873799  [19264/60000]\n",
      "loss: 0.778024  [25664/60000]\n",
      "loss: 0.760939  [32064/60000]\n",
      "loss: 0.857527  [38464/60000]\n",
      "loss: 0.813425  [44864/60000]\n",
      "loss: 0.819376  [51264/60000]\n",
      "loss: 0.812572  [57664/60000]\n",
      "Test Error: \n",
      " Accuracy: 71.0%, Avg loss: 0.793454 \n",
      "\n",
      "Done!\n"
     ]
    }
   ],
   "source": [
    "# run the training process\n",
    "loss_fn = nn.CrossEntropyLoss()\n",
    "optimizer = torch.optim.SGD(model.parameters(), lr=learning_rate)\n",
    "\n",
    "epochs = 10\n",
    "for t in range(epochs):\n",
    "    print(f\"Epoch {t+1}\\n-------------------------------\")\n",
    "    train_loop(train_dataloader, model, loss_fn, optimizer)\n",
    "    test_loop(test_dataloader, model, loss_fn)\n",
    "print(\"Done!\")"
   ]
  },
  {
   "cell_type": "code",
   "execution_count": null,
   "metadata": {},
   "outputs": [],
   "source": []
  },
  {
   "cell_type": "code",
   "execution_count": null,
   "metadata": {},
   "outputs": [],
   "source": []
  }
 ],
 "metadata": {
  "kernelspec": {
   "display_name": ".venv",
   "language": "python",
   "name": "python3"
  },
  "language_info": {
   "codemirror_mode": {
    "name": "ipython",
    "version": 3
   },
   "file_extension": ".py",
   "mimetype": "text/x-python",
   "name": "python",
   "nbconvert_exporter": "python",
   "pygments_lexer": "ipython3",
   "version": "3.11.0rc1"
  }
 },
 "nbformat": 4,
 "nbformat_minor": 2
}
