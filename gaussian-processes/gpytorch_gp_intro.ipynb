{
 "cells": [
  {
   "cell_type": "code",
   "execution_count": null,
   "metadata": {},
   "outputs": [],
   "source": [
    "# Using https://docs.gpytorch.ai/en/stable/examples/01_Exact_GPs/Simple_GP_Regression.html"
   ]
  },
  {
   "cell_type": "code",
   "execution_count": 1,
   "metadata": {},
   "outputs": [],
   "source": [
    "import math\n",
    "import torch\n",
    "import gpytorch\n",
    "from matplotlib import pyplot as plt"
   ]
  },
  {
   "cell_type": "code",
   "execution_count": null,
   "metadata": {},
   "outputs": [],
   "source": [
    "# Training data is 100 points in [0,1] inclusive regularly spaced\n",
    "train_x = torch.linspace(0, 1, 100)\n",
    "# True function is sin(2*pi*x) with Gaussian noise\n",
    "train_y = torch.sin(train_x * (2 * math.pi)) + torch.randn(train_x.size()) * math.sqrt(0.04)"
   ]
  },
  {
   "cell_type": "markdown",
   "metadata": {},
   "source": [
    "For GP regression:\n",
    "- A GP Model (gpytorch.models.ExactGP) - This handles most of the inference.\n",
    "\n",
    "- A Likelihood (gpytorch.likelihoods.GaussianLikelihood) - This is the most common likelihood used for GP regression.\n",
    "\n",
    "- A Mean - This defines the prior mean of the GP.(If you don’t know which mean to use, a gpytorch.means.ConstantMean() is a good place to start.)\n",
    "\n",
    "- A Kernel - This defines the prior covariance of the GP.(If you don’t know which kernel to use, a gpytorch.kernels.ScaleKernel(gpytorch.kernels.RBFKernel()) is a good place to start).\n",
    "\n",
    "- A MultivariateNormal Distribution (gpytorch.distributions.MultivariateNormal) - This is the object used to represent multivariate normal distributions."
   ]
  },
  {
   "cell_type": "code",
   "execution_count": 3,
   "metadata": {},
   "outputs": [],
   "source": [
    "# We will use the simplest form of GP model, exact inference\n",
    "class ExactGPModel(gpytorch.models.ExactGP):\n",
    "    def __init__(self, train_x, train_y, likelihood):\n",
    "        super(ExactGPModel, self).__init__(train_x, train_y, likelihood)\n",
    "        self.mean_module = gpytorch.means.ConstantMean()\n",
    "        self.covar_module = gpytorch.kernels.ScaleKernel(gpytorch.kernels.RBFKernel())\n",
    "\n",
    "    def forward(self, x):\n",
    "        mean_x = self.mean_module(x)\n",
    "        covar_x = self.covar_module(x)\n",
    "        return gpytorch.distributions.MultivariateNormal(mean_x, covar_x)\n",
    "\n",
    "# initialize likelihood and model\n",
    "likelihood = gpytorch.likelihoods.GaussianLikelihood()\n",
    "model = ExactGPModel(train_x, train_y, likelihood)"
   ]
  },
  {
   "cell_type": "markdown",
   "metadata": {},
   "source": [
    "The most obvious difference here compared to many other GP implementations is that, as in standard PyTorch, the core training loop is written by the user. In GPyTorch, we make use of the standard PyTorch optimizers as from torch.optim, and all trainable parameters of the model should be of type torch.nn.Parameter. Because GP models directly extend torch.nn.Module, calls to methods like model.parameters() or model.named_parameters() function as you might expect coming from PyTorch.\n",
    "\n",
    "In most cases, the boilerplate code below will work well. It has the same basic components as the standard PyTorch training loop:\n",
    "\n",
    "1. Zero all parameter gradients\n",
    "\n",
    "2. Call the model and compute the loss\n",
    "\n",
    "3. Call backward on the loss to fill in gradients\n",
    "\n",
    "4. Take a step on the optimizer"
   ]
  },
  {
   "cell_type": "code",
   "execution_count": 4,
   "metadata": {},
   "outputs": [
    {
     "name": "stdout",
     "output_type": "stream",
     "text": [
      "Iter 1/50 - Loss: 0.930   lengthscale: 0.693   noise: 0.693\n",
      "Iter 2/50 - Loss: 0.899   lengthscale: 0.644   noise: 0.644\n",
      "Iter 3/50 - Loss: 0.864   lengthscale: 0.598   noise: 0.598\n",
      "Iter 4/50 - Loss: 0.827   lengthscale: 0.555   noise: 0.554\n",
      "Iter 5/50 - Loss: 0.784   lengthscale: 0.514   noise: 0.513\n",
      "Iter 6/50 - Loss: 0.738   lengthscale: 0.475   noise: 0.474\n",
      "Iter 7/50 - Loss: 0.687   lengthscale: 0.439   noise: 0.437\n",
      "Iter 8/50 - Loss: 0.637   lengthscale: 0.404   noise: 0.402\n",
      "Iter 9/50 - Loss: 0.588   lengthscale: 0.372   noise: 0.369\n",
      "Iter 10/50 - Loss: 0.543   lengthscale: 0.342   noise: 0.339\n",
      "Iter 11/50 - Loss: 0.503   lengthscale: 0.315   noise: 0.310\n",
      "Iter 12/50 - Loss: 0.465   lengthscale: 0.292   noise: 0.284\n",
      "Iter 13/50 - Loss: 0.430   lengthscale: 0.272   noise: 0.259\n",
      "Iter 14/50 - Loss: 0.396   lengthscale: 0.256   noise: 0.237\n",
      "Iter 15/50 - Loss: 0.362   lengthscale: 0.244   noise: 0.216\n",
      "Iter 16/50 - Loss: 0.329   lengthscale: 0.234   noise: 0.196\n",
      "Iter 17/50 - Loss: 0.296   lengthscale: 0.227   noise: 0.179\n",
      "Iter 18/50 - Loss: 0.263   lengthscale: 0.222   noise: 0.163\n",
      "Iter 19/50 - Loss: 0.230   lengthscale: 0.219   noise: 0.148\n",
      "Iter 20/50 - Loss: 0.198   lengthscale: 0.218   noise: 0.134\n",
      "Iter 21/50 - Loss: 0.167   lengthscale: 0.219   noise: 0.122\n",
      "Iter 22/50 - Loss: 0.136   lengthscale: 0.221   noise: 0.111\n",
      "Iter 23/50 - Loss: 0.107   lengthscale: 0.225   noise: 0.101\n",
      "Iter 24/50 - Loss: 0.078   lengthscale: 0.230   noise: 0.092\n",
      "Iter 25/50 - Loss: 0.052   lengthscale: 0.236   noise: 0.084\n",
      "Iter 26/50 - Loss: 0.028   lengthscale: 0.244   noise: 0.076\n",
      "Iter 27/50 - Loss: 0.006   lengthscale: 0.252   noise: 0.070\n",
      "Iter 28/50 - Loss: -0.013   lengthscale: 0.261   noise: 0.064\n",
      "Iter 29/50 - Loss: -0.029   lengthscale: 0.271   noise: 0.059\n",
      "Iter 30/50 - Loss: -0.042   lengthscale: 0.280   noise: 0.054\n",
      "Iter 31/50 - Loss: -0.052   lengthscale: 0.290   noise: 0.050\n",
      "Iter 32/50 - Loss: -0.058   lengthscale: 0.299   noise: 0.046\n",
      "Iter 33/50 - Loss: -0.061   lengthscale: 0.308   noise: 0.043\n",
      "Iter 34/50 - Loss: -0.061   lengthscale: 0.314   noise: 0.040\n",
      "Iter 35/50 - Loss: -0.060   lengthscale: 0.319   noise: 0.038\n",
      "Iter 36/50 - Loss: -0.057   lengthscale: 0.321   noise: 0.036\n",
      "Iter 37/50 - Loss: -0.054   lengthscale: 0.320   noise: 0.034\n",
      "Iter 38/50 - Loss: -0.051   lengthscale: 0.317   noise: 0.033\n",
      "Iter 39/50 - Loss: -0.048   lengthscale: 0.313   noise: 0.031\n",
      "Iter 40/50 - Loss: -0.046   lengthscale: 0.307   noise: 0.031\n",
      "Iter 41/50 - Loss: -0.044   lengthscale: 0.301   noise: 0.030\n",
      "Iter 42/50 - Loss: -0.042   lengthscale: 0.295   noise: 0.030\n",
      "Iter 43/50 - Loss: -0.042   lengthscale: 0.290   noise: 0.030\n",
      "Iter 44/50 - Loss: -0.042   lengthscale: 0.285   noise: 0.030\n",
      "Iter 45/50 - Loss: -0.043   lengthscale: 0.281   noise: 0.030\n",
      "Iter 46/50 - Loss: -0.044   lengthscale: 0.278   noise: 0.030\n",
      "Iter 47/50 - Loss: -0.047   lengthscale: 0.276   noise: 0.031\n",
      "Iter 48/50 - Loss: -0.049   lengthscale: 0.276   noise: 0.032\n",
      "Iter 49/50 - Loss: -0.052   lengthscale: 0.276   noise: 0.032\n",
      "Iter 50/50 - Loss: -0.055   lengthscale: 0.277   noise: 0.033\n"
     ]
    }
   ],
   "source": [
    "# this is for running the notebook in our testing framework\n",
    "training_iter = 50\n",
    "\n",
    "\n",
    "# Find optimal model hyperparameters\n",
    "model.train()\n",
    "likelihood.train()\n",
    "\n",
    "# Use the adam optimizer\n",
    "optimizer = torch.optim.Adam(model.parameters(), lr=0.1)  # Includes GaussianLikelihood parameters\n",
    "\n",
    "# \"Loss\" for GPs - the marginal log likelihood\n",
    "mll = gpytorch.mlls.ExactMarginalLogLikelihood(likelihood, model)\n",
    "\n",
    "for i in range(training_iter):\n",
    "    # Zero gradients from previous iteration\n",
    "    optimizer.zero_grad()\n",
    "    # Output from model\n",
    "    output = model(train_x)\n",
    "    # Calc loss and backprop gradients\n",
    "    loss = -mll(output, train_y)\n",
    "    loss.backward()\n",
    "    print('Iter %d/%d - Loss: %.3f   lengthscale: %.3f   noise: %.3f' % (\n",
    "        i + 1, training_iter, loss.item(),\n",
    "        model.covar_module.base_kernel.lengthscale.item(),\n",
    "        model.likelihood.noise.item()\n",
    "    ))\n",
    "    optimizer.step()"
   ]
  },
  {
   "cell_type": "markdown",
   "metadata": {},
   "source": [
    "In the next cell, we make predictions with the model. To do this, we simply put the model and likelihood in eval mode, and call both modules on the test data.\n",
    "\n",
    "Just as a user defined GP model returns a MultivariateNormal containing the prior mean and covariance from forward, a trained GP model in eval mode returns a MultivariateNormal containing the posterior mean and covariance.\n",
    "\n",
    "If we denote a test point (test_x) as x* with the true output being y*, then model(test_x) returns the model posterior distribution p(f* | x*, X, y), for training data X, y. This posterior is the distribution over the function we are trying to model, and thus quantifies our model uncertainty.\n",
    "\n",
    "In contrast, likelihood(model(test_x)) gives us the posterior predictive distribution p(y* | x*, X, y) which is the probability distribution over the predicted output value. Recall in our problem setup\n",
    "\n",
    " \n",
    "where 𝜖 is the likelihood noise for each observation. By including the likelihood noise which is the noise in your observation (e.g. due to noisy sensor), the prediction is over the observed value of the test point.\n",
    "\n",
    "Thus, getting the predictive mean and variance, and then sampling functions from the GP at the given test points could be accomplished with calls like:"
   ]
  },
  {
   "cell_type": "code",
   "execution_count": 6,
   "metadata": {},
   "outputs": [],
   "source": [
    "# Get into evaluation (predictive posterior) mode\n",
    "model.eval()\n",
    "likelihood.eval()\n",
    "\n",
    "# Test points are regularly spaced along [0,1]\n",
    "# Make predictions by feeding model through likelihood\n",
    "with torch.no_grad(), gpytorch.settings.fast_pred_var():\n",
    "    test_x = torch.linspace(0, 1, 51)\n",
    "    observed_pred = likelihood(model(test_x))"
   ]
  },
  {
   "cell_type": "code",
   "execution_count": 8,
   "metadata": {},
   "outputs": [
    {
     "data": {
      "image/png": "[encoded data removed]",
      "text/plain": [
       "<Figure size 400x300 with 1 Axes>"
      ]
     },
     "metadata": {},
     "output_type": "display_data"
    }
   ],
   "source": [
    "with torch.no_grad():\n",
    "    # Initialize plot\n",
    "    f, ax = plt.subplots(1, 1, figsize=(4, 3))\n",
    "\n",
    "    # Get upper and lower confidence bounds\n",
    "    lower, upper = observed_pred.confidence_region()\n",
    "    # Plot training data as black stars\n",
    "    ax.plot(train_x.numpy(), train_y.numpy(), 'k*')\n",
    "    # Plot predictive means as blue line\n",
    "    ax.plot(test_x.numpy(), observed_pred.mean.numpy(), 'b')\n",
    "    # Shade between the lower and upper confidence bounds\n",
    "    ax.fill_between(test_x.numpy(), lower.numpy(), upper.numpy(), alpha=0.5)\n",
    "    ax.set_ylim([-3, 3])\n",
    "    ax.legend(['Observed Data', 'Mean', 'Confidence'])"
   ]
  }
 ],
 "metadata": {
  "kernelspec": {
   "display_name": ".venv",
   "language": "python",
   "name": "python3"
  },
  "language_info": {
   "codemirror_mode": {
    "name": "ipython",
    "version": 3
   },
   "file_extension": ".py",
   "mimetype": "text/x-python",
   "name": "python",
   "nbconvert_exporter": "python",
   "pygments_lexer": "ipython3",
   "version": "3.12.1"
  }
 },
 "nbformat": 4,
 "nbformat_minor": 2
}
