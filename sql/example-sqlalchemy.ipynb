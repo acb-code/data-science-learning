{
 "cells": [
  {
   "cell_type": "code",
   "execution_count": 4,
   "metadata": {},
   "outputs": [],
   "source": [
    "from sqlalchemy import create_engine, Column, Integer, String\n",
    "from sqlalchemy.orm import sessionmaker, declarative_base"
   ]
  },
  {
   "cell_type": "code",
   "execution_count": 5,
   "metadata": {},
   "outputs": [
    {
     "name": "stdout",
     "output_type": "stream",
     "text": [
      "Bob 25\n",
      "Bob 25\n"
     ]
    }
   ],
   "source": [
    "# create an engine\n",
    "engine = create_engine('sqlite:///example.db')\n",
    "Base = declarative_base()\n",
    "\n",
    "# define a table using ORM\n",
    "class SpecialUser(Base):\n",
    "    __tablename__ = 'specialusers'\n",
    "\n",
    "    id = Column(Integer, primary_key=True)\n",
    "    name = Column(String)\n",
    "    age = Column(Integer)\n",
    "\n",
    "\n",
    "# create the table\n",
    "Base.metadata.create_all(engine)\n",
    "\n",
    "# create a session\n",
    "Session = sessionmaker(bind=engine)\n",
    "session = Session()\n",
    "\n",
    "# insert a new special user\n",
    "new_user = SpecialUser(name='Bob', age=25)\n",
    "session.add(new_user)\n",
    "session.commit()\n",
    "\n",
    "# query the users\n",
    "for user in session.query(SpecialUser).all():\n",
    "    print(user.name, user.age)"
   ]
  },
  {
   "cell_type": "code",
   "execution_count": null,
   "metadata": {},
   "outputs": [],
   "source": []
  }
 ],
 "metadata": {
  "kernelspec": {
   "display_name": ".venv",
   "language": "python",
   "name": "python3"
  },
  "language_info": {
   "codemirror_mode": {
    "name": "ipython",
    "version": 3
   },
   "file_extension": ".py",
   "mimetype": "text/x-python",
   "name": "python",
   "nbconvert_exporter": "python",
   "pygments_lexer": "ipython3",
   "version": "3.12.1"
  }
 },
 "nbformat": 4,
 "nbformat_minor": 2
}
